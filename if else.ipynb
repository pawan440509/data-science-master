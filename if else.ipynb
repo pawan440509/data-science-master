{
 "cells": [
  {
   "cell_type": "code",
   "execution_count": 1,
   "id": "182976c4-28df-4dd9-a8a6-bc626f5a7eb6",
   "metadata": {},
   "outputs": [],
   "source": [
    "## mall -input the product price\n",
    "## product > 1000 rs 20% off\n",
    "## print the product price after removing the discount\n",
    "## ## product > 1000 rs 30% off\n",
    "## print the product price after removing the discount"
   ]
  },
  {
   "cell_type": "code",
   "execution_count": 9,
   "id": "bf9e6015-43c4-482c-bfec-88ac430bd69c",
   "metadata": {},
   "outputs": [
    {
     "name": "stdin",
     "output_type": "stream",
     "text": [
      "Enter the price 10\n"
     ]
    },
    {
     "name": "stdout",
     "output_type": "stream",
     "text": [
      "The price of the product is 7.0\n"
     ]
    }
   ],
   "source": [
    "product_price=int(input(\"Enter the price\"))\n",
    "if product_price>1000:\n",
    "    print(\"The price of the product is {}\".format(product_price*0.8))\n",
    "else:\n",
    "    print(\"The price of the product is {}\".format(product_price*0.7))"
   ]
  },
  {
   "cell_type": "code",
   "execution_count": 7,
   "id": "a80895f8-4884-41dc-a398-6dd91a12a41b",
   "metadata": {},
   "outputs": [
    {
     "data": {
      "text/plain": [
       "1000"
      ]
     },
     "execution_count": 7,
     "metadata": {},
     "output_type": "execute_result"
    }
   ],
   "source": [
    "int((20/100)*5000)"
   ]
  },
  {
   "cell_type": "code",
   "execution_count": 15,
   "id": "b4770d70-c4d3-4aba-9bdc-835f911f0685",
   "metadata": {},
   "outputs": [],
   "source": [
    "## mall -input the product price\n",
    "## product >3000 rs 20% off\n",
    "## price is ==4000 you get a trip to Goa\n",
    "## print the product price after removing the discount\n",
    "## product >=2000 rs and <=3000 30% off\n",
    "## print the product price after removing the discount\n",
    "## price ==2999 u will get additional gift\n",
    "## product <=1000 rs and <=2000 40% off\n",
    "## print the product price after removing the discount"
   ]
  },
  {
   "cell_type": "code",
   "execution_count": 11,
   "id": "317cf8e9-c22b-4b43-9597-bfebb928fe82",
   "metadata": {},
   "outputs": [
    {
     "name": "stdin",
     "output_type": "stream",
     "text": [
      "Enter the price 50\n"
     ]
    },
    {
     "name": "stdout",
     "output_type": "stream",
     "text": [
      "Lets drink tea\n",
      "i will also be there\n"
     ]
    }
   ],
   "source": [
    "product_price=int(input(\"Enter the price\"))\n",
    "if product_price>3000:\n",
    "    if product_price ==4000:\n",
    "        print(\"congratulation you get a Goa trip\")\n",
    "    print(f\"The price of the product is {product_price*0.8}\")\n",
    "elif  product_price>=2000 and product_price<=3000:\n",
    "    if product_price ==2999:\n",
    "        print(\"congratulation you get an additional gift\")\n",
    "    print(f\"The price of the product is{product_price*0.7}\")\n",
    "elif  product_price>=100 and product_price<=2000:\n",
    "     print(f\"The price of the product is{product_price*0.6}\")\n",
    "else:\n",
    "    print(\"Lets drink tea\")\n",
    "    print(\"i will also be there\")"
   ]
  },
  {
   "cell_type": "code",
   "execution_count": 9,
   "id": "03b07988-f781-4994-b68e-485ddd872677",
   "metadata": {},
   "outputs": [
    {
     "data": {
      "text/plain": [
       "True"
      ]
     },
     "execution_count": 9,
     "metadata": {},
     "output_type": "execute_result"
    }
   ],
   "source": [
    "##camparision operator\n",
    "True==True"
   ]
  },
  {
   "cell_type": "code",
   "execution_count": 15,
   "id": "e6a579ec-382f-4653-8c00-c4cb24122797",
   "metadata": {},
   "outputs": [
    {
     "name": "stdin",
     "output_type": "stream",
     "text": [
      "Enter the number 1000\n"
     ]
    },
    {
     "name": "stdout",
     "output_type": "stream",
     "text": [
      "Go to sakshi home\n"
     ]
    }
   ],
   "source": [
    "# single statement suites\n",
    "val=int(input('Enter the number'))\n",
    "if(val<=999):print(\"value is less than equal to 999\")\n",
    "else:\n",
    "    print(\"Go to sakshi home\")"
   ]
  },
  {
   "cell_type": "code",
   "execution_count": null,
   "id": "739bdc97-f40c-4aad-84eb-c7a8a32a4015",
   "metadata": {},
   "outputs": [],
   "source": []
  }
 ],
 "metadata": {
  "kernelspec": {
   "display_name": "Python 3 (ipykernel)",
   "language": "python",
   "name": "python3"
  },
  "language_info": {
   "codemirror_mode": {
    "name": "ipython",
    "version": 3
   },
   "file_extension": ".py",
   "mimetype": "text/x-python",
   "name": "python",
   "nbconvert_exporter": "python",
   "pygments_lexer": "ipython3",
   "version": "3.12.4"
  }
 },
 "nbformat": 4,
 "nbformat_minor": 5
}
