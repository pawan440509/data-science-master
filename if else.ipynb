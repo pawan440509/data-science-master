{
 "cells": [
  {
   "cell_type": "code",
   "execution_count": 1,
   "id": "4267dc25-b408-42e1-b45c-ffd65ff23b8e",
   "metadata": {},
   "outputs": [],
   "source": [
    "a=10"
   ]
  },
  {
   "cell_type": "code",
   "execution_count": 3,
   "id": "84ffe904-f56c-4cd7-88b5-5c99db075fa5",
   "metadata": {},
   "outputs": [],
   "source": [
    "a='c'"
   ]
  },
  {
   "cell_type": "code",
   "execution_count": 4,
   "id": "5720c461-319e-4485-8c2a-5b05776c6e5a",
   "metadata": {},
   "outputs": [
    {
     "data": {
      "text/plain": [
       "str"
      ]
     },
     "execution_count": 4,
     "metadata": {},
     "output_type": "execute_result"
    }
   ],
   "source": [
    "type(a)"
   ]
  },
  {
   "cell_type": "code",
   "execution_count": 5,
   "id": "fef81ba8-406f-4c15-b302-d4264383ff25",
   "metadata": {},
   "outputs": [
    {
     "data": {
      "text/plain": [
       "0"
      ]
     },
     "execution_count": 5,
     "metadata": {},
     "output_type": "execute_result"
    }
   ],
   "source": [
    "int()"
   ]
  },
  {
   "cell_type": "code",
   "execution_count": 6,
   "id": "6b0faea9-b1c0-410e-8065-2ea2b11feeda",
   "metadata": {},
   "outputs": [
    {
     "data": {
      "text/plain": [
       "123"
      ]
     },
     "execution_count": 6,
     "metadata": {},
     "output_type": "execute_result"
    }
   ],
   "source": [
    "int('123')"
   ]
  },
  {
   "cell_type": "code",
   "execution_count": 7,
   "id": "005ed484-4bba-455a-aee3-1cc23c3757a8",
   "metadata": {},
   "outputs": [
    {
     "name": "stdout",
     "output_type": "stream",
     "text": [
      "hello world\n"
     ]
    }
   ],
   "source": [
    "print(\"hello world\")"
   ]
  },
  {
   "cell_type": "code",
   "execution_count": 8,
   "id": "6ce838a5-f825-49ce-90ef-559759844ee3",
   "metadata": {},
   "outputs": [
    {
     "name": "stdout",
     "output_type": "stream",
     "text": [
      "My age is: 25\n"
     ]
    }
   ],
   "source": [
    "age=25\n",
    "print(\"My age is:\",age)"
   ]
  },
  {
   "cell_type": "code",
   "execution_count": 11,
   "id": "d8f44d93-8d3e-4265-babf-cbdb552326b5",
   "metadata": {},
   "outputs": [
    {
     "name": "stdout",
     "output_type": "stream",
     "text": [
      "My age is:25\n"
     ]
    }
   ],
   "source": [
    "## f string\n",
    "print(f\"My age is:{age}\") ## for formeting purpose"
   ]
  },
  {
   "cell_type": "code",
   "execution_count": 12,
   "id": "6498698e-c0a5-490d-8681-30e4780c62bd",
   "metadata": {},
   "outputs": [
    {
     "name": "stdout",
     "output_type": "stream",
     "text": [
      "My name is Pawan singh and age is 25 \n"
     ]
    }
   ],
   "source": [
    "## format()\n",
    "name=\"Pawan singh\"\n",
    "age=25\n",
    "print(\"My name is {} and age is {} \".format(name,age))\n"
   ]
  },
  {
   "cell_type": "code",
   "execution_count": 13,
   "id": "95684954-7841-48eb-aeb1-6d6768e2317b",
   "metadata": {},
   "outputs": [
    {
     "name": "stdout",
     "output_type": "stream",
     "text": [
      "My name is 25 and age is Pawan singh \n"
     ]
    }
   ],
   "source": [
    "print(\"My name is {} and age is {} \".format(age,name))"
   ]
  },
  {
   "cell_type": "code",
   "execution_count": 14,
   "id": "d6eed826-8918-4ed5-aacc-7463e518dcdc",
   "metadata": {},
   "outputs": [
    {
     "name": "stdout",
     "output_type": "stream",
     "text": [
      "My name is Pawan singh and age is25\n"
     ]
    }
   ],
   "source": [
    "##placeholder\n",
    "print(\"My name is {firstname} and age is{firstage}\" .format(firstname=name,firstage=age))"
   ]
  },
  {
   "cell_type": "code",
   "execution_count": 15,
   "id": "42051fc5-b953-409e-b4c9-d1c20b5d8929",
   "metadata": {},
   "outputs": [
    {
     "data": {
      "text/plain": [
       "'My age is 32 and i have completed:my degree of Btech with the name of Pawan singh'"
      ]
     },
     "execution_count": 15,
     "metadata": {},
     "output_type": "execute_result"
    }
   ],
   "source": [
    "name=\"pawan singh\"\n",
    "age=25\n",
    "degree=\"Btech\"\n",
    "\"My age is 32 and i have completed:my degree of Btech with the name of Pawan singh\""
   ]
  },
  {
   "cell_type": "code",
   "execution_count": null,
   "id": "c11e6673-ff12-4a2f-9e4c-1dd55eda92c2",
   "metadata": {},
   "outputs": [],
   "source": [
    "print(\"My age is {} and i have completed: my degree {} with the name of {} \" .format(age,degree,name))"
   ]
  },
  {
   "cell_type": "code",
   "execution_count": null,
   "id": "e5e90531-cf4e-47e5-a4bf-8f129f5ad984",
   "metadata": {},
   "outputs": [],
   "source": [
    "print(f\"My age is {age} and i have completed: my degree {degree} with the name of {name} \" .format(age,degree,name))"
   ]
  },
  {
   "cell_type": "markdown",
   "id": "d485712f-385a-4033-ae71-916c25452dde",
   "metadata": {},
   "source": [
    "## Control Flow\n",
    "### Decision Making Statements\n",
    "#### if, if-else, if elif else ,Nested if, Single statement suites\n",
    "\n"
   ]
  },
  {
   "cell_type": "code",
   "execution_count": null,
   "id": "98699831-5aa8-4957-ba69-01194fc24e3b",
   "metadata": {},
   "outputs": [],
   "source": [
    "## If statements\n",
    "age=18\n",
    "if age>=18:\n",
    "    print(\"You are eligible to vote\")"
   ]
  },
  {
   "cell_type": "code",
   "execution_count": 1,
   "id": "95d8e282-e6de-4606-8f02-8d9e80eeeb4c",
   "metadata": {},
   "outputs": [
    {
     "data": {
      "text/plain": [
       "False"
      ]
     },
     "execution_count": 1,
     "metadata": {},
     "output_type": "execute_result"
    }
   ],
   "source": [
    "18<18"
   ]
  },
  {
   "cell_type": "code",
   "execution_count": 1,
   "id": "1b4d43a1-ab94-486f-88db-1f1e0255ab06",
   "metadata": {},
   "outputs": [
    {
     "data": {
      "text/plain": [
       "True"
      ]
     },
     "execution_count": 1,
     "metadata": {},
     "output_type": "execute_result"
    }
   ],
   "source": [
    "18<=18"
   ]
  },
  {
   "cell_type": "code",
   "execution_count": 2,
   "id": "0d631c76-2663-4fca-a2dd-b0800d6b82c4",
   "metadata": {},
   "outputs": [
    {
     "data": {
      "text/plain": [
       "9"
      ]
     },
     "execution_count": 2,
     "metadata": {},
     "output_type": "execute_result"
    }
   ],
   "source": [
    "4+5"
   ]
  },
  {
   "cell_type": "code",
   "execution_count": null,
   "id": "fb9cf67f-7f49-42aa-b545-01ed7d83c051",
   "metadata": {},
   "outputs": [],
   "source": [
    "name=input(\"Enter the name\")"
   ]
  },
  {
   "cell_type": "code",
   "execution_count": null,
   "id": "724fcb5d-a18c-4b03-993e-828469a1162c",
   "metadata": {},
   "outputs": [],
   "source": []
  }
 ],
 "metadata": {
  "kernelspec": {
   "display_name": "Python 3 (ipykernel)",
   "language": "python",
   "name": "python3"
  },
  "language_info": {
   "codemirror_mode": {
    "name": "ipython",
    "version": 3
   },
   "file_extension": ".py",
   "mimetype": "text/x-python",
   "name": "python",
   "nbconvert_exporter": "python",
   "pygments_lexer": "ipython3",
   "version": "3.10.8"
  }
 },
 "nbformat": 4,
 "nbformat_minor": 5
}
